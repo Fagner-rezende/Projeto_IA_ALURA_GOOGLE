{
  "cells": [
    {
      "cell_type": "markdown",
      "metadata": {
        "id": "view-in-github",
        "colab_type": "text"
      },
      "source": [
        "<a href=\"https://colab.research.google.com/github/Fagner-rezende/Projeto_IA_ALURA_GOOGLE/blob/main/Teste_Vocacional.ipynb\" target=\"_parent\"><img src=\"https://colab.research.google.com/assets/colab-badge.svg\" alt=\"Open In Colab\"/></a>"
      ]
    },
    {
      "cell_type": "code",
      "source": [
        "import google.generativeai as genai\n",
        "from google.colab import userdata\n",
        "GOOGLE_API_KEY = userdata.get (\"SECRET_KEY\")\n",
        "\n",
        "# Configuração da API\n",
        "genai.configure(api_key=GOOGLE_API_KEY)\n",
        "\n",
        "# Configurações do modelo\n",
        "generation_config = {\n",
        "    \"candidate_count\": 1,\n",
        "    \"temperature\": 0.7,\n",
        "}\n",
        "safety_settings = {\n",
        "    \"HARASSMENT\": \"medium\",\n",
        "    \"HATE\": \"medium\",\n",
        "    \"SEXUAL\": \"high\",\n",
        "    \"DANGEROUS\": \"medium\"\n",
        "}\n",
        "\n",
        "# Inicializa o modelo\n",
        "model = genai.GenerativeModel(model_name=\"gemini-1.0-pro\",\n",
        "                              generation_config=generation_config,\n",
        "                              safety_settings=safety_settings)\n",
        "\n",
        "# Inicia uma sessão de chat vazia\n",
        "chat = model.start_chat(history=[])\n",
        "\n",
        "# Pergunta o nome do usuário e se apresente\n",
        "name = input(\"Qual é o seu nome? \")\n",
        "print(f\"Olá {name}, seja bem-vindo(a) ao Guia do Futuro!\")\n",
        "print(\"Estou aqui para guiá-lo em uma jornada de autoconhecimento.\")\n",
        "print(\"Através de perguntas cuidadosamente selecionadas, vou descobrir suas paixões e talentos.\")\n",
        "print(\"Ao final, apresentarei uma lista personalizada de carreiras que se alinham perfeitamente com o seu perfil único.\", \"\\n\")\n",
        "\n",
        "# Loop para as perguntas\n",
        "for i in range(8):\n",
        "    # Gerar uma pergunta com o seguinte prompt\n",
        "    prompt = \"Crie uma pergunta que um consultor vocacional faria a um jovem, com idade entre 15 e 20 anos, para entender melhor seus interesses e habilidades, levando em conta que ele pode estar explorando opções de carreira, ensino superior ou ingresso no mercado de trabalho. Varie os tipos de perguntas: Use uma combinação de perguntas abertas e fechadas, perguntas sobre o passado, presente e futuro, e perguntas sobre sentimentos e opiniões. Use linguagem adequada: Certifique-se de que as perguntas sejam claras, concisas e fáceis de entender para jovens dessa faixa etária. Seja criativo, gere perguntas originais e instigantes que ajudem o estudante a refletir sobre si mesmo e suas aspirações. Não esqueça que deverá ser feito apenas uma pergunta por vez. Não precisa especificar para o usuário qual tipo de pergunta está fazendo.\"\n",
        "    response = chat.send_message(prompt)\n",
        "    pergunta = response.text\n",
        "\n",
        "    # Fazer a pergunta ao usuário\n",
        "    resposta_usuario = input(pergunta + \" \")\n",
        "\n",
        "    # Adicionar a resposta do usuário ao histórico do chat\n",
        "    chat.send_message(resposta_usuario)\n",
        "\n",
        "# Prompt para o Gemini sugerir carreiras com base nas respostas do usuário\n",
        "prompt_carreiras = f\"\"\"\n",
        "Com base nas respostas do usuário:\n",
        "\n",
        "\"\"\"\n",
        "for mensagem in chat.history:\n",
        "    prompt_carreiras += f\"{mensagem}\\n\"\n",
        "\n",
        "prompt_carreiras += \"\"\"\n",
        "Sugira 5 possíveis carreiras que se alinham com os interesses e habilidades do usuário e explique o porque dessas opções.\n",
        "\"\"\"\n",
        "\n",
        "# Obter as sugestões de carreira do Gemini\n",
        "response = chat.send_message(prompt_carreiras)\n",
        "sugestoes_carreira = response.text\n",
        "\n",
        "# Imprimir as sugestões para o usuário\n",
        "print(\"Com base em suas respostas, aqui estão algumas sugestões de carreira:\")\n",
        "print(sugestoes_carreira)\n"
      ],
      "metadata": {
        "colab": {
          "base_uri": "https://localhost:8080/",
          "height": 454
        },
        "id": "qchL9gf3k9E_",
        "outputId": "3a8fd304-5a9f-454f-bacd-aae1d0b21173"
      },
      "execution_count": 6,
      "outputs": [
        {
          "output_type": "stream",
          "name": "stdout",
          "text": [
            "Qual é o seu nome? Fágner\n",
            "Olá Fágner, seja bem-vindo(a) ao Guia do Futuro!\n",
            "Estou aqui para guiá-lo em uma jornada de autoconhecimento.\n",
            "Através de perguntas cuidadosamente selecionadas, vou descobrir suas paixões e talentos.\n",
            "Ao final, apresentarei uma lista personalizada de carreiras que se alinham perfeitamente com o seu perfil único. \n",
            "\n",
            "Se você pudesse escolher qualquer profissão no mundo, sem se preocupar com dinheiro ou restrições práticas, o que você escolheria e por quê? Cientista/pesquisador\n",
            "Pensando nas suas experiências passadas, quais atividades ou assuntos na escola ou fora dela te deixaram mais animado e engajado? Gosto de viajar e jogar video game.\n",
            "Se você pudesse criar o seu trabalho ideal, sem se preocupar com restrições práticas, como ele seria? Quais atividades, responsabilidades e ambiente de trabalho você incluiria? Gerar aplicações ou invenções que facilite a vida das pessoas.\n",
            "Pensando no seu futuro, quais são seus maiores medos e preocupações em relação à escolha de uma carreira ou caminho profissional? De me arrepender e não gostar da minha área de atuação.\n",
            "Se você pudesse viajar no tempo e dar um conselho ao seu eu mais jovem sobre a escolha de carreira, o que você diria? Nunca deixe de acreditar em você e sempre estude um pouco mais!\n",
            "Pensando em suas experiências e realizações até agora, quais são os momentos em que você se sentiu mais orgulhoso de si mesmo e por quê? Quando eu abri uma empresa, conseguir gerar recursos para você e para outras pessoas é muito gratificante.\n",
            "Se você pudesse escolher qualquer mentor no mundo, vivo ou não, quem você escolheria e por quê? Nitiren Daishonin, foi o ultimo buda vivo. Queria poder encontrar com ele para ver realmente como ele vivia e como pensava. Seria muito inspirador.\n",
            "Imagine que você tem uma varinha mágica que pode transformar qualquer sonho profissional em realidade. Qual carreira você escolheria e por quê? Alguma na área de tecnologia, poder criar alguma coisa que ajude a vida das pessoas.\n",
            "Com base em suas respostas, aqui estão algumas sugestões de carreira:\n",
            "**1. Engenheiro de Software:** Com seu interesse em tecnologia e desejo de criar soluções que ajudem as pessoas, a engenharia de software é uma carreira que pode permitir que você desenvolva aplicativos e sistemas que impactam positivamente a vida dos outros.\n",
            "\n",
            "**2. Analista de Dados:** Seu interesse em gerar recursos e fazer a diferença sugere que você pode ser adequado para uma carreira em análise de dados. Analisando dados e identificando tendências, você pode fornecer insights valiosos para empresas e organizações, ajudando-as a tomar decisões informadas.\n",
            "\n",
            "**3. Desenvolvedor Web:** Com sua criatividade e desejo de facilitar a vida das pessoas, o desenvolvimento web pode ser uma boa opção. Você pode criar sites e aplicativos que forneçam informações, serviços e experiências fáceis de usar para os usuários.\n",
            "\n",
            "**4. Especialista em Ciência de Dados:** Sua paixão por tecnologia e resolução de problemas se alinha bem com a ciência de dados. Nesta função, você pode usar técnicas analíticas avançadas para extrair insights de grandes conjuntos de dados, ajudando empresas a entender seus clientes e melhorar suas operações.\n",
            "\n",
            "**5. Gerente de Produto:** Com seu interesse em empreendedorismo e fazer a diferença, a gestão de produtos pode ser uma carreira gratificante. Você pode liderar o desenvolvimento de produtos inovadores que atendam às necessidades dos clientes, melhorando suas vidas e impulsionando o crescimento do negócio.\n"
          ]
        }
      ]
    }
  ],
  "metadata": {
    "colab": {
      "provenance": [],
      "include_colab_link": true
    },
    "kernelspec": {
      "display_name": "Python 3",
      "name": "python3"
    }
  },
  "nbformat": 4,
  "nbformat_minor": 0
}